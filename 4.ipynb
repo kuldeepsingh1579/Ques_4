{
 "cells": [
  {
   "cell_type": "raw",
   "id": "8d1e654f-420f-474a-9b79-3854cf0b6947",
   "metadata": {},
   "source": [
    "Promise chaining is a technique in JavaScript used to perform a sequence of asynchronous operations in a more organized and readable manner. It leverages the concept of Promises to ensure that the asynchronous tasks are executed in order, one after another, without nesting multiple levels of callbacks. This results in cleaner and more maintainable code.\n",
    "\n"
   ]
  }
 ],
 "metadata": {
  "kernelspec": {
   "display_name": "Python 3 (ipykernel)",
   "language": "python",
   "name": "python3"
  },
  "language_info": {
   "codemirror_mode": {
    "name": "ipython",
    "version": 3
   },
   "file_extension": ".py",
   "mimetype": "text/x-python",
   "name": "python",
   "nbconvert_exporter": "python",
   "pygments_lexer": "ipython3",
   "version": "3.10.8"
  }
 },
 "nbformat": 4,
 "nbformat_minor": 5
}
